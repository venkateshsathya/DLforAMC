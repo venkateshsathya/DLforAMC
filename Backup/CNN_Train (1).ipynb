{
 "cells": [
  {
   "cell_type": "markdown",
   "metadata": {},
   "source": [
    "## Import Model"
   ]
  },
  {
   "cell_type": "code",
   "execution_count": 1,
   "metadata": {
    "collapsed": true
   },
   "outputs": [],
   "source": [
    "\n",
    "from ModulationPredictionCNN import ModulationPredictionCNN\n",
    "activation = 'relu'\n",
    "#model = ModulationPredictionCNN()\n",
    "model = ModulationPredictionCNN(activation=activation)"
   ]
  },
  {
   "cell_type": "markdown",
   "metadata": {},
   "source": [
    "## Import Data"
   ]
  },
  {
   "cell_type": "code",
   "execution_count": 2,
   "metadata": {},
   "outputs": [
    {
     "name": "stdout",
     "output_type": "stream",
     "text": [
      "(110000, 2, 1024)\n",
      "(110000,)\n"
     ]
    }
   ],
   "source": [
    "import scipy.io as sio\n",
    "import numpy as np\n",
    "IQSamples = sio.loadmat('ModulationData.mat')\n",
    "LBSamples = sio.loadmat('Labels.mat')\n",
    "data = IQSamples['frameswhole']\n",
    "label =  LBSamples['IQDataLabel']\n",
    "n_samples = data.shape[-1]\n",
    "data = np.squeeze(np.moveaxis(data, [0, 1, 2, 3], [-3, -2, -1, -4]))\n",
    "print(data.shape)\n",
    "print(label.shape)"
   ]
  },
  {
   "cell_type": "code",
   "execution_count": 3,
   "metadata": {},
   "outputs": [
    {
     "name": "stdout",
     "output_type": "stream",
     "text": [
      "['16QAM ' '64QAM ' '8PSK  ' 'B-FM  ' 'BPSK  ' 'CPFSK ' 'DSB-AM' 'GFSK  '\n",
      " 'PAM4  ' 'QPSK  ' 'SSB-AM']\n"
     ]
    }
   ],
   "source": [
    "print(np.unique(label))\n",
    "label_dict = {'16QAM ':0, '64QAM ':1, '8PSK  ':2, 'B-FM  ':3, 'BPSK  ':4, 'CPFSK ':5, 'DSB-AM':6, 'GFSK  ':7,\n",
    " 'PAM4  ':8, 'QPSK  ':9, 'SSB-AM':10}\n",
    "lbl = np.zeros(n_samples)\n",
    "for i in range(n_samples):\n",
    "    lbl[i] = label_dict[label[i]]\n",
    "label = lbl"
   ]
  },
  {
   "cell_type": "code",
   "execution_count": 4,
   "metadata": {},
   "outputs": [
    {
     "name": "stdout",
     "output_type": "stream",
     "text": [
      "(70400, 2, 1024) (17600, 2, 1024)\n"
     ]
    }
   ],
   "source": [
    "from sklearn.model_selection import train_test_split\n",
    "import torch\n",
    "'''\n",
    "shuffled_idx = np.random.permutation(range(n_samples))\n",
    "n_samples = 10000\n",
    "data = data[shuffled_idx[:n_samples]]\n",
    "label = label[shuffled_idx[:n_samples]]\n",
    "'''\n",
    "def label2onehot(lbl):\n",
    "    if len(lbl.shape) == 1:\n",
    "        d = np.zeros((lbl.size, lbl.max() + 1))\n",
    "        d[np.arange(lbl.size), lbl] = 1\n",
    "    else:\n",
    "        d = lbl\n",
    "    return d\n",
    "\n",
    "def onehot2label(d):\n",
    "    if len(d.shape) == 1:\n",
    "        lbl = d\n",
    "    else:\n",
    "        lbl = d.argmax(axis=1)\n",
    "    return lbl\n",
    "\n",
    "label = onehot2label(label)\n",
    "# Split test data\n",
    "x_data, x_test, y_data, y_test = train_test_split(data, label, test_size=0.2, random_state=1)\n",
    "# Split validation data\n",
    "x_train, x_val, y_train, y_val = train_test_split(x_data, y_data, test_size=0.2, random_state=1)\n",
    "\n",
    "\n",
    "train_set = {'data':torch.tensor(x_train).float(), 'labels':torch.tensor(y_train).float() }\n",
    "val_set = {'data':torch.tensor(x_val).float(), 'labels':torch.tensor(y_val).float()}\n",
    "print(x_train.shape, x_val.shape)\n"
   ]
  },
  {
   "cell_type": "markdown",
   "metadata": {},
   "source": [
    "## Train Model"
   ]
  },
  {
   "cell_type": "code",
   "execution_count": 5,
   "metadata": {},
   "outputs": [
    {
     "name": "stdout",
     "output_type": "stream",
     "text": [
      "Model on CUDA? True\n",
      "Training complete after 101 epochs\n"
     ]
    }
   ],
   "source": [
    "import torch.nn as nn\n",
    "import torch\n",
    "from Train import train_model\n",
    "\n",
    "model_file = 'Models/'+activation+'_model.pt'\n",
    "num_epochs = 100\n",
    "batch_size = 32\n",
    "learning_rate = 0.00001\n",
    "criterion = nn.CrossEntropyLoss()\n",
    "computing_device = torch.device(\"cuda\")\n",
    "\n",
    "model, Loss, Accuracy = train_model(model, model_file, train_set, val_set, num_epochs, batch_size, learning_rate, criterion, computing_device)\n",
    "\n",
    "\n"
   ]
  },
  {
   "cell_type": "markdown",
   "metadata": {},
   "source": [
    "## Test Model"
   ]
  },
  {
   "cell_type": "code",
   "execution_count": 10,
   "metadata": {},
   "outputs": [
    {
     "name": "stderr",
     "output_type": "stream",
     "text": [
      "/opt/conda/lib/python3.6/site-packages/ipykernel_launcher.py:28: UserWarning: To copy construct from a tensor, it is recommended to use sourceTensor.clone().detach() or sourceTensor.clone().detach().requires_grad_(True), rather than torch.tensor(sourceTensor).\n"
     ]
    },
    {
     "name": "stdout",
     "output_type": "stream",
     "text": [
      "Test Accuracy =  0.8207727272727273\n",
      "Train Accuracy =  0.84546875\n"
     ]
    }
   ],
   "source": [
    "from ModulationPredictionCNN import ModulationPredictionCNN\n",
    "import torch\n",
    "import torch.nn as nn\n",
    "\n",
    "def calculate_accuracy(model, data, label, batch_size, computing_device):\n",
    "    n_samples = data.shape[0]\n",
    "    n_minibatch = int((n_samples+batch_size-1)/batch_size)\n",
    "    accuracy = 0\n",
    "    I = np.arange(n_samples)\n",
    "    for i in range(n_minibatch):\n",
    "        idx = I[batch_size*i:min(batch_size*(i+1), n_samples)]\n",
    "        dt = data[idx].to(computing_device)\n",
    "        lbl = label[idx]\n",
    "        output = model(dt).detach()\n",
    "        output = output.cpu().numpy()\n",
    "        output = np.argmax(output,axis=1)\n",
    "\n",
    "        accuracy += np.sum(output == lbl)\n",
    "\n",
    "    return accuracy/n_samples\n",
    "\n",
    "model = ModulationPredictionCNN(activation)\n",
    "batch_size = 1000\n",
    "computing_device = torch.device(\"cuda\")\n",
    "model.load_state_dict(torch.load(model_file))\n",
    "model.to(computing_device)\n",
    "\n",
    "x_test = torch.tensor(x_test).float().to(computing_device)\n",
    "accuracy = calculate_accuracy(model, x_test, y_test, batch_size, computing_device)\n",
    "print('Test Accuracy = ', accuracy)\n",
    "\n",
    "x_train = torch.tensor(x_train).float().to(computing_device)\n",
    "accuracy = calculate_accuracy(model, x_train, y_train, batch_size, computing_device)\n",
    "print('Train Accuracy = ', accuracy)\n",
    "\n"
   ]
  },
  {
   "cell_type": "markdown",
   "metadata": {},
   "source": [
    "## Plot Loss"
   ]
  },
  {
   "cell_type": "code",
   "execution_count": 7,
   "metadata": {},
   "outputs": [
    {
     "data": {
      "image/png": "[encoded data removed]",
      "text/plain": [
       "<Figure size 432x288 with 1 Axes>"
      ]
     },
     "metadata": {
      "needs_background": "light"
     },
     "output_type": "display_data"
    }
   ],
   "source": [
    "import matplotlib.pyplot as plt\n",
    "%matplotlib inline\n",
    "epochs = [i for i in range(len(Loss['train']))]\n",
    "plt.plot(epochs, Loss['train'])\n",
    "plt.plot(epochs, Loss['valid'])\n",
    "plt.title('')\n",
    "plt.xlabel('Epoch')\n",
    "plt.ylabel('Loss')\n",
    "plt.legend(['Training', 'Validation'])\n",
    "plt.savefig(activation+'_model_loss')\n",
    "plt.show()"
   ]
  },
  {
   "cell_type": "markdown",
   "metadata": {},
   "source": [
    "## Plot Accuracy"
   ]
  },
  {
   "cell_type": "code",
   "execution_count": 8,
   "metadata": {},
   "outputs": [
    {
     "data": {
      "image/png": "[encoded data removed]",
      "text/plain": [
       "<Figure size 432x288 with 1 Axes>"
      ]
     },
     "metadata": {
      "needs_background": "light"
     },
     "output_type": "display_data"
    }
   ],
   "source": [
    "plt.plot(epochs, Accuracy['train'])\n",
    "plt.plot(epochs, Accuracy['valid'])\n",
    "plt.title('')\n",
    "plt.xlabel('Epoch')\n",
    "plt.ylabel('Accuracy')\n",
    "plt.legend(['Training', 'Validation'])\n",
    "plt.savefig(activation+'_model_acc')\n",
    "plt.show()"
   ]
  },
  {
   "cell_type": "markdown",
   "metadata": {},
   "source": [
    "## Plot Confusion Matrix"
   ]
  },
  {
   "cell_type": "code",
   "execution_count": 9,
   "metadata": {},
   "outputs": [
    {
     "name": "stderr",
     "output_type": "stream",
     "text": [
      "/opt/conda/lib/python3.6/site-packages/ipykernel_launcher.py:22: UserWarning: To copy construct from a tensor, it is recommended to use sourceTensor.clone().detach() or sourceTensor.clone().detach().requires_grad_(True), rather than torch.tensor(sourceTensor).\n"
     ]
    },
    {
     "name": "stdout",
     "output_type": "stream",
     "text": [
      "(22000,)\n",
      "float64\n"
     ]
    },
    {
     "data": {
      "image/png": "[encoded data removed]",
      "text/plain": [
       "<Figure size 432x288 with 2 Axes>"
      ]
     },
     "metadata": {
      "needs_background": "light"
     },
     "output_type": "display_data"
    }
   ],
   "source": [
    "from sklearn.metrics import confusion_matrix\n",
    "%matplotlib inline\n",
    "import matplotlib.pyplot as plt\n",
    "\n",
    "\n",
    "def get_output(model, data, batch_size, computing_device):\n",
    "    n_samples = data.shape[0]\n",
    "    n_minibatch = int((n_samples+batch_size-1)/batch_size)\n",
    "    accuracy = 0\n",
    "    I = np.arange(n_samples)\n",
    "    Output = []\n",
    "    for i in range(n_minibatch):\n",
    "        idx = I[batch_size*i:min(batch_size*(i+1), n_samples)]\n",
    "        dt = data[idx].to(computing_device)\n",
    "        out = model(dt).detach()\n",
    "        out = out.cpu().numpy()\n",
    "        out = np.argmax(out,axis=1)\n",
    "        Output.extend(list(out))\n",
    "\n",
    "    return np.asarray(Output)\n",
    "\n",
    "y_pred = get_output(model, torch.tensor(x_test).float(), 1000, computing_device)\n",
    "print(y_pred.shape)\n",
    "confusion_mat = confusion_matrix(y_test, y_pred)\n",
    "confusion_mat = confusion_mat.astype(float)\n",
    "print(confusion_mat.dtype)\n",
    "for r in range(11):\n",
    "    n_r = y_test[y_test == r].shape[0]\n",
    "    for c in range(11):\n",
    "        confusion_mat[r,c] = confusion_mat[r,c]/n_r\n",
    "\n",
    "\n",
    "plt.imshow(confusion_mat, cmap='coolwarm', interpolation='nearest')\n",
    "plt.title('Confusion Matrix')\n",
    "plt.xticks(np.arange(11), label_dict.keys(), rotation=300)\n",
    "plt.yticks(np.arange(11), label_dict.keys(), rotation=0)\n",
    "plt.xlabel('Predicted Class')\n",
    "plt.ylabel('True Class')\n",
    "plt.colorbar()\n",
    "plt.savefig(activation+'_model_conf',  bbox_inches = 'tight')\n",
    "plt.show()\n"
   ]
  },
  {
   "cell_type": "code",
   "execution_count": null,
   "metadata": {
    "collapsed": true
   },
   "outputs": [],
   "source": []
  }
 ],
 "metadata": {
  "kernelspec": {
   "display_name": "Python 3",
   "language": "python",
   "name": "python3"
  },
  "language_info": {
   "codemirror_mode": {
    "name": "ipython",
    "version": 3
   },
   "file_extension": ".py",
   "mimetype": "text/x-python",
   "name": "python",
   "nbconvert_exporter": "python",
   "pygments_lexer": "ipython3",
   "version": "3.7.3"
  }
 },
 "nbformat": 4,
 "nbformat_minor": 2
}
